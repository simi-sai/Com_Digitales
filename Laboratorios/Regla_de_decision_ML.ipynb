{
  "cells": [
    {
      "cell_type": "markdown",
      "metadata": {
        "id": "1CD5J9t1eLaK"
      },
      "source": [
        "# Cálculo del valor de decisón óptimo para el caso de una regla de decisión ML."
      ]
    },
    {
      "cell_type": "markdown",
      "metadata": {},
      "source": [
        "## Consigna:\n",
        "Adjunte una Jupyter Notebook en donde quede expresado el desarrollo matemático que permite obtener el valor del nivel de decisión para el caso del ejemplo planteado en la clase, esto es para una regla de decisión ML y valores de intensidad $λ_0=1$ y $λ_1=3$."
      ]
    },
    {
      "cell_type": "markdown",
      "metadata": {
        "id": "r_8cyg-Rj4Lu"
      },
      "source": [
        "## Desarrollo:"
      ]
    },
    {
      "cell_type": "markdown",
      "metadata": {},
      "source": [
        "La regla de decisión de máxima verosimilitud (del inglés Maximum Likelihood decision Rule) o ML, establece que la hipótesis transmitida más probable dada la observación Y en un instante de tiempo dado es aquella que cumple con la siguiente relación:\n",
        "\n",
        "$\\hat{H}(y)=\\underset{i\\in \\mathcal{H}}{argmax}P_{Y|H}(y|i)$"
      ]
    },
    {
      "cell_type": "markdown",
      "metadata": {},
      "source": [
        "En el ejemplo visto en clase tenemos 2 hipotesis, la hipotesis 0 es que el LED se encuentra apagado y la 1 es que el LED se encuentra encendido. Ambas hipotesis poseen una distribución de Poisson con sus respectivos Lambdas, siendo estos: $λ_0=1$ y $λ_1=3$. Por ende:\n",
        "\n",
        "$H = 0, Y~P_{Y|H}(y|0) = $"
      ]
    }
  ],
  "metadata": {
    "colab": {
      "provenance": []
    },
    "kernelspec": {
      "display_name": "Python 3",
      "name": "python3"
    },
    "language_info": {
      "name": "python",
      "version": "3.12.2"
    }
  },
  "nbformat": 4,
  "nbformat_minor": 0
}
