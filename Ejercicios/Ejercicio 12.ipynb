{
 "cells": [
  {
   "cell_type": "markdown",
   "metadata": {},
   "source": [
    "# Cálculo del valor de decisión óptimo para el caso de una regla de decisión ML en una observacion continua"
   ]
  },
  {
   "cell_type": "markdown",
   "metadata": {},
   "source": [
    "## Consigna: "
   ]
  },
  {
   "cell_type": "markdown",
   "metadata": {},
   "source": [
    "Considere el siguiente problema de prueba de hipótesis entre dos hipótesis igualmente probables. Bajo la hipótesis $H=0$, la señal observable $Y$ es igual a $a+Z$ donde $Z$ es una variable aleatoria con la siguiente distribución laplaciana:\n",
    "\n",
    "$f_Z(z) = \\frac{1}{2}e^{-|z-\\mu|}$, donde $\\mu$ es la media de la variable $Z$.\n",
    "\n",
    "Bajo la hipótesis $H = 1$, $Y$ viene dado por $-a+Z$. Vamos a suponer que $a$ es positivo.\n",
    "\n",
    "1. Realice un programa en una Jupyter Notebook que dibuje las funciones de densidad de probabilidad $f_{Y|H}(y|0)$ y $f_{Y|H}(y|1)$.\n",
    "2. Determine cualitativamente el nivel de decisión óptimo. Bajo que regla de decisión es óptimo?\n",
    "3. Determine cuantitativamente el nivel de decisión óptimo.\n",
    "4. Determine cuantitativamente la probabilidad de error $P_e$."
   ]
  }
 ],
 "metadata": {
  "language_info": {
   "name": "python"
  }
 },
 "nbformat": 4,
 "nbformat_minor": 2
}
