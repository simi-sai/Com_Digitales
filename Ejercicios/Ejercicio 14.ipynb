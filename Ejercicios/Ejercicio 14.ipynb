{
 "cells": [
  {
   "cell_type": "markdown",
   "metadata": {},
   "source": [
    "# Cálculo del valor de decisón óptimo para el caso de una regla de decisión MAP en una observación discreta"
   ]
  },
  {
   "cell_type": "markdown",
   "metadata": {},
   "source": [
    "## Consigna: "
   ]
  },
  {
   "cell_type": "markdown",
   "metadata": {},
   "source": [
    "Suponga que se transmite un símbolo binario  $A \\in \\{ 0,1 \\}$  con probabilidades a priori $P_A(0)=q$ y $P_A(1) =1-q$ a través de un canal BSC. La observación $Y \\in \\{ 0, 1 \\}$ también es binaria e igual a $A$ con probabilidad $1-p$.\n",
    "\n",
    "1. Encuentre cualitativamente la regla de decisión MAP para el caso de $q= 0.9$ y $p= 0.2$.\n",
    "2. Encuentre cualitativamente la regla de decisión MAP para el caso de $q= 0.5$ y $p= 0.3$.\n",
    "3. A diferencia del caso ML, si suma todas las barras del histograma obtenido no van a obtener como resultado 1. Puede intuir a que se debe?\n",
    "4. En cual de los casos (punto 1 o punto 2) esta regla de decisión es óptima? dicho en otras palabras, cuando esta regla de decisión produce la minima probabilidad de error?\n",
    "5. Realice y adjunte la simulación Monte Carlo del problema."
   ]
  },
  {
   "cell_type": "markdown",
   "metadata": {},
   "source": [
    "## Desarrollo:"
   ]
  },
  {
   "cell_type": "markdown",
   "metadata": {},
   "source": [
    "### 1. Encuentre cualitativamente la regla de decisión MAP para el caso de $q= 0.9$ y $p= 0.2$"
   ]
  }
 ],
 "metadata": {
  "language_info": {
   "name": "python"
  }
 },
 "nbformat": 4,
 "nbformat_minor": 2
}
