{
 "cells": [
  {
   "cell_type": "markdown",
   "metadata": {},
   "source": [
    "# Cálculo del valor de decisión óptimo para el caso de una regla de decisión MAP en una observación continua"
   ]
  },
  {
   "cell_type": "markdown",
   "metadata": {},
   "source": [
    "## Consigna:"
   ]
  },
  {
   "cell_type": "markdown",
   "metadata": {},
   "source": [
    "Considere una variable aleatoria $X \\in \\{-1, +3\\}$ con probabilidades a priori $P_X(-1) = 0.4$ y $P_X (+3) = 0.6$. Dada una observación y de la variable aleatoria $Y = X+N$, donde $N$ es una variable aleatoria gaussiana de media $\\mu = 0$ con varianza $\\sigma^2 = 0.4$, independiente de $X$,\n",
    "1. encuentre el nivel de decisión para un detector MAP. \n",
    "2. Calcule analíticamente la probabilidad de error $P_e$."
   ]
  },
  {
   "cell_type": "markdown",
   "metadata": {},
   "source": [
    "## Desarrollo:"
   ]
  },
  {
   "cell_type": "markdown",
   "metadata": {},
   "source": [
    "### 1. Nivel de decisión para un detector MAP"
   ]
  },
  {
   "cell_type": "markdown",
   "metadata": {},
   "source": [
    "Al sumar una variable aleatoria binaria con una variable aleatoria gaussiana se obtiene una variable aleatoria gaussiana con media desplazada en el valor de la primer variable binaria. Por ende se definen $\\mu_0 = -1$ y $\\mu_1 = 3$\n",
    "\n",
    "$H(-1) \\sim N(\\mu_0,\\sigma) = \\frac{1}{σ\\sqrt{2π}} ⋅ e^{-\\frac{(y-\\mu_0)}{2 \\cdot σ^2}}$\n",
    "\n",
    "$H(+3) \\sim N(\\mu_1,\\sigma) = \\frac{1}{σ\\sqrt{2π}} ⋅ e^{-\\frac{(y-\\mu_1)}{2 \\cdot σ^2}}$\n",
    "\n",
    "Y si debemos calcular el nivel de decisión para un detector MAP debemos resolver la siguiente desigualdad:\n",
    "\n",
    "$P_X(+3) \\cdot \\frac{1}{σ\\sqrt{2π}} ⋅ e^{-\\frac{(y-\\mu_1)}{2 \\cdot σ^2}} \\overset{\\hat{H}=1}{\\underset{\\hat{H}=0}\\gtreqless} P_X(-1) \\cdot \\frac{1}{σ\\sqrt{2π}} ⋅ e^{-\\frac{(y-\\mu_0)}{2 \\cdot σ^2}} = P_X(+3) \\cdot e^{-\\frac{(y-\\mu_1)}{2 \\cdot σ^2}} \\overset{\\hat{H}=1}{\\underset{\\hat{H}=0}\\gtreqless} P_X(-1) \\cdot e^{-\\frac{(y-\\mu_0)}{2 \\cdot σ^2}}$"
   ]
  }
 ],
 "metadata": {
  "language_info": {
   "name": "python"
  }
 },
 "nbformat": 4,
 "nbformat_minor": 2
}
