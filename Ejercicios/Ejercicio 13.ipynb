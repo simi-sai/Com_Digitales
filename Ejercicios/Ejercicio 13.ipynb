{
 "cells": [
  {
   "cell_type": "markdown",
   "metadata": {},
   "source": [
    "# Cálculo del valor de decisón óptimo para el caso de una regla de decisión MAP de una observación discreta"
   ]
  },
  {
   "cell_type": "markdown",
   "metadata": {},
   "source": [
    "## Consigna:"
   ]
  },
  {
   "cell_type": "markdown",
   "metadata": {},
   "source": [
    "Adjunte una Jupyter Notebook en donde:\n",
    "1. Quede expresado el desarrollo matemático que permite obtener el valor del nivel de decisión para el caso del ejemplo planteado en la clase, pero esta vez para una regla de decisión MAP con valores de intensidad de $\\lambda_0=1$ y $\\lambda_1=3$ y con probabilidades de hipótesis $P_H(0)=0.7$ y $P_H(1)=0.3$.\n",
    "2. Genere una simulación Monte Carlo del problema para obtener la probabilidad de error cuando se utiliza el nivel de decisión obtenido en el punto anterior.\n",
    "3. Cambie el nivel de decisión por el valor obtenido para el caso ML (modifique solo ese valor) y compare el resultado con el valor de probabilidad de error obtenido en el punto anterior. Saque conclusiones de la observación.\n",
    "\n",
    "*Ayuda*: El siguiente código genera hipótesis binarias con distintas probabilidades:\n",
    "\n",
    "z = np.random.uniform(size=nb_samples) $\\\\$ ref = 0.7 $\\\\$ hypothesis = [1 if z[i]>=ref else 0 for i in range(len(z))]\n",
    "\n",
    "(Para una mayor comprensión de este código, analícelo con histogramas antes de utilizarlo) "
   ]
  },
  {
   "cell_type": "markdown",
   "metadata": {},
   "source": [
    "## Desarrollo:"
   ]
  },
  {
   "cell_type": "markdown",
   "metadata": {},
   "source": [
    "### 1. Quede expresado el desarrollo matemático que permite obtener el valor del nivel de decisión para el caso del ejemplo planteado en la clase, pero esta vez para una regla de decisión MAP con valores de intensidad de $\\lambda_0=1$ y $\\lambda_1=3$ y con probabilidades de hipótesis $P_H(0)=0.7$ y $P_H(1)=0.3$"
   ]
  },
  {
   "cell_type": "markdown",
   "metadata": {},
   "source": [
    "Distribución de probabilidades del canal (vistas en ejemplo anterior):\n",
    "\n",
    "$H = 0,\\hspace{0.3cm} Y \\sim P_{Y|H}(y|0) = \\frac{\\lambda^{y}_{0}e^{-\\lambda_{0}}}{y!} = \\frac{1^{y}e^{-1}}{y!} (siendo \\hspace{0.2cm} \\lambda_0 = 1) $\n",
    "\n",
    "$H = 1,\\hspace{0.3cm} Y \\sim P_{Y|H}(y|1) = \\frac{\\lambda^{y}_{0}e^{-\\lambda_{1}}}{y!} = \\frac{3^{y}e^{-3}}{y!} (siendo \\hspace{0.2cm} \\lambda_1 = 3) $\n",
    "\n",
    "Sabiendo que la regla de decisión MAP se calcula de la forma:\n",
    "\n",
    "$"
   ]
  }
 ],
 "metadata": {
  "kernelspec": {
   "display_name": ".venv",
   "language": "python",
   "name": "python3"
  },
  "language_info": {
   "name": "python",
   "version": "3.12.2"
  }
 },
 "nbformat": 4,
 "nbformat_minor": 2
}
