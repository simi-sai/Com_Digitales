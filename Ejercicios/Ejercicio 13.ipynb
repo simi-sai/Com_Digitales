{
 "cells": [
  {
   "cell_type": "markdown",
   "metadata": {},
   "source": [
    "# Cálculo del valor de decisón óptimo para el caso de una regla de decisión MAP de una observación discreta"
   ]
  },
  {
   "cell_type": "markdown",
   "metadata": {},
   "source": [
    "## Consigna:"
   ]
  },
  {
   "cell_type": "markdown",
   "metadata": {},
   "source": [
    "Adjunte una Jupyter Notebook en donde:\n",
    "1. Quede expresado el desarrollo matemático que permite obtener el valor del nivel de decisión para el caso del ejemplo planteado en la clase, pero esta vez para una regla de decisión MAP con valores de intensidad de $\\lambda_0=1$ y $\\lambda_1=3$ y con probabilidades de hipótesis $P_H(0)=0.7$ y $P_H(1)=0.3$.\n",
    "2. Genere una simulación Monte Carlo del problema para obtener la probabilidad de error cuando se utiliza el nivel de decisión obtenido en el punto anterior.\n",
    "3. Cambie el nivel de decisión por el valor obtenido para el caso ML (modifique solo ese valor) y compare el resultado con el valor de probabilidad de error obtenido en el punto anterior. Saque conclusiones de la observación.\n",
    "\n",
    "*Ayuda*: El siguiente código genera hipótesis binarias con distintas probabilidades:\n",
    "\n",
    "z = np.random.uniform(size=nb_samples) $\\\\$ ref = 0.7 $\\\\$ hypothesis = [1 if z[i]>=ref else 0 for i in range(len(z))]\n",
    "\n",
    "(Para una mayor comprensión de este código, analícelo con histogramas antes de utilizarlo) "
   ]
  },
  {
   "cell_type": "markdown",
   "metadata": {},
   "source": [
    "## Desarrollo:"
   ]
  },
  {
   "cell_type": "markdown",
   "metadata": {},
   "source": [
    "### 1. Quede expresado el desarrollo matemático que permite obtener el valor del nivel de decisión para el caso del ejemplo planteado en la clase, pero esta vez para una regla de decisión MAP con valores de intensidad de $\\lambda_0=1$ y $\\lambda_1=3$ y con probabilidades de hipótesis $P_H(0)=0.7$ y $P_H(1)=0.3$"
   ]
  },
  {
   "cell_type": "markdown",
   "metadata": {},
   "source": [
    "Distribución de probabilidades del canal (vistas en ejemplo anterior):\n",
    "\n",
    "$H = 0,\\hspace{0.3cm} Y \\sim P_{Y|H}(y|0) = \\frac{\\lambda^{y}_{0}e^{-\\lambda_{0}}}{y!} = \\frac{1^{y}e^{-1}}{y!} (siendo \\hspace{0.2cm} \\lambda_0 = 1) $\n",
    "\n",
    "$H = 1,\\hspace{0.3cm} Y \\sim P_{Y|H}(y|1) = \\frac{\\lambda^{y}_{0}e^{-\\lambda_{1}}}{y!} = \\frac{3^{y}e^{-3}}{y!} (siendo \\hspace{0.2cm} \\lambda_1 = 3) $\n",
    "\n",
    "Sabiendo que la regla de decisión MAP se calcula de la forma:\n",
    "\n",
    "$ P_H(1) \\cdot P_{Y|H}(y|1) \\overset{\\hat{H}=1}{\\underset{\\hat{H}=0}\\gtreqless} P_H(0) \\cdot P_{Y|H}(y|0) = 0.3 \\cdot \\frac{3^{y}e^{-3}}{y!} \\overset{\\hat{H}=1}{\\underset{\\hat{H}=0}\\gtreqless} 0.7 \\cdot \\frac{1^{y}e^{-1}}{y!} = 0.3 \\cdot 3^{y}e^{-3} \\overset{\\hat{H}=1}{\\underset{\\hat{H}=0}\\gtreqless} 0.7 \\cdot 1^{y}e^{-1} = \\\\ = \\ln{(0.3 \\cdot 3^{y}e^{-3})} \\overset{\\hat{H}=1}{\\underset{\\hat{H}=0}\\gtreqless} \\ln{(0.7 \\cdot 1^{y}e^{-1})} = \\ln{(0.3)} + \\ln{(3^y)} + \\ln{(e^{-3})} \\overset{\\hat{H}=1}{\\underset{\\hat{H}=0}\\gtreqless} \\ln{(0.7)} + \\ln{(1^y)} + \\ln{(e^{-1})} = \\\\ = \\ln{(0.3)} + y \\cdot \\ln{(3)} + (-3) \\overset{\\hat{H}=1}{\\underset{\\hat{H}=0}\\gtreqless} \\ln{(0.7)} + y \\cdot \\ln{(1)} + (-1) = \\ln{(0.3)} + y \\cdot \\ln{(3)} -3 \\overset{\\hat{H}=1}{\\underset{\\hat{H}=0}\\gtreqless} \\ln{(0.7)} + (-1) = \\\\ = y \\overset{\\hat{H}=1}{\\underset{\\hat{H}=0}\\gtreqless} \\frac{ \\ln{(0.7)} -1 - \\ln{(0.3)} + 3 }{\\ln{(3)}} = y \\overset{\\hat{H}=1}{\\underset{\\hat{H}=0}\\gtreqless} 2.5917 \\quad$ (terminado con calculadora)"
   ]
  },
  {
   "cell_type": "markdown",
   "metadata": {},
   "source": [
    "### 2. Genere una simulación Monte Carlo del problema para obtener la probabilidad de error cuando se utiliza el nivel de decisión obtenido en el punto anterior"
   ]
  },
  {
   "cell_type": "markdown",
   "metadata": {},
   "source": [
    "*Ayuda*: El siguiente código genera hipótesis binarias con distintas probabilidades:\n",
    "\n",
    "z = np.random.uniform(size=nb_samples) $\\\\$ ref = 0.7 $\\\\$ hypothesis = [1 if z[i]>=ref else 0 for i in range(len(z))]\n",
    "\n",
    "(Para una mayor comprensión de este código, analícelo con histogramas antes de utilizarlo) "
   ]
  },
  {
   "cell_type": "code",
   "execution_count": 4,
   "metadata": {},
   "outputs": [
    {
     "data": {
      "image/png": "[encoded data removed]",
      "text/plain": [
       "<Figure size 640x480 with 1 Axes>"
      ]
     },
     "metadata": {},
     "output_type": "display_data"
    },
    {
     "name": "stdout",
     "output_type": "stream",
     "text": [
      "Probabilidad de error:  0.18106\n"
     ]
    }
   ],
   "source": [
    "import numpy as np\n",
    "import matplotlib.pyplot as plt\n",
    "\n",
    "nb_samples = 100000\n",
    "z = np.random.uniform(size = nb_samples)\n",
    "ref = 0.7\n",
    "hipotesis = [1 if z[i]>=ref else 0 for i in range(len(z))]\n",
    "    \n",
    "plt.title(\"Histograma de la hipótesis binaria generada\")\n",
    "plt.hist(hipotesis, bins=100, color='b', alpha=0.7)\n",
    "plt.grid()\n",
    "plt.show()\n",
    "\n",
    "lambda0 = 1\n",
    "lambda1 = 3\n",
    "salida = [np.random.poisson(lambda0) if hipotesis[i]==0 else np.random.poisson(lambda1) for i in range(nb_samples)]\n",
    "\n",
    "threshold = 2.5971   # Calculado en el ejercicio anterior\n",
    "\n",
    "hipotesis_decodificada = [1 if salida[i]>= threshold else 0 for i in range(nb_samples)]\n",
    "\n",
    "pe = sum(1 for i in range(nb_samples) if hipotesis[i] != hipotesis_decodificada[i]) / nb_samples\n",
    "\n",
    "print(\"Probabilidad de error: \", pe)"
   ]
  },
  {
   "cell_type": "markdown",
   "metadata": {},
   "source": [
    "### 3. Cambie el nivel de decisión por el valor obtenido para el caso ML (modifique solo ese valor) y compare el resultado con el valor de probabilidad de error obtenido en el punto anterior. Saque conclusiones de la observación"
   ]
  },
  {
   "cell_type": "markdown",
   "metadata": {},
   "source": [
    "El valor calculado para el caso ML es $y \\geq 1.82$"
   ]
  },
  {
   "cell_type": "code",
   "execution_count": 6,
   "metadata": {},
   "outputs": [
    {
     "name": "stdout",
     "output_type": "stream",
     "text": [
      "Probabilidad de error:  0.24577\n"
     ]
    }
   ],
   "source": [
    "nb_samples = 100000\n",
    "z = np.random.uniform(size = nb_samples)\n",
    "ref = 0.7\n",
    "hipotesis = [1 if z[i]>=ref else 0 for i in range(len(z))]\n",
    "\n",
    "lambda0 = 1\n",
    "lambda1 = 3\n",
    "salida = [np.random.poisson(lambda0) if hipotesis[i]==0 else np.random.poisson(lambda1) for i in range(nb_samples)]\n",
    "\n",
    "threshold = 1.82   # Valor para el caso ML\n",
    "\n",
    "hipotesis_decodificada = [1 if salida[i]>= threshold else 0 for i in range(nb_samples)]\n",
    "\n",
    "pe = sum(1 for i in range(nb_samples) if hipotesis[i] != hipotesis_decodificada[i]) / nb_samples\n",
    "\n",
    "print(\"Probabilidad de error: \", pe)"
   ]
  },
  {
   "cell_type": "markdown",
   "metadata": {},
   "source": [
    "**Conclusión**: Teniendo en cuenta ambos valores de decisión, las probabilidades de error fueron 0.181 (para la regla de decisión MAP) y 0.2457 (para la regla de decisión ML). Podemos decir que, claramente, la probabilidad de error en el caso ML es mucho mayor. Esto se debe a que la regla de decisión ML no considera la probabilidad de la fuente, por eso es solo recomendada en los casos en que la probabilidad de la fuente es equiprobable, en caso contrario, siempre que se sepa la probabilidad de la fuente se recomienda usar la regla de decisión MAP para asegurar la menor probabilidad de error."
   ]
  }
 ],
 "metadata": {
  "kernelspec": {
   "display_name": ".venv",
   "language": "python",
   "name": "python3"
  },
  "language_info": {
   "codemirror_mode": {
    "name": "ipython",
    "version": 3
   },
   "file_extension": ".py",
   "mimetype": "text/x-python",
   "name": "python",
   "nbconvert_exporter": "python",
   "pygments_lexer": "ipython3",
   "version": "3.12.2"
  }
 },
 "nbformat": 4,
 "nbformat_minor": 2
}
