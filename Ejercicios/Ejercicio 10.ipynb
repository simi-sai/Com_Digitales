{
  "cells": [
    {
      "cell_type": "markdown",
      "metadata": {
        "id": "E1iFZKKtdQXy"
      },
      "source": [
        "# Cálculo del valor de decisión óptimo para el caso de una regla de decisión ML"
      ]
    },
    {
      "cell_type": "markdown",
      "metadata": {
        "id": "qWfQo5pcdQX0"
      },
      "source": [
        "## Consigna:"
      ]
    },
    {
      "cell_type": "markdown",
      "metadata": {
        "id": "4lTGfZCOdQX0"
      },
      "source": [
        "Suponga que se desea enviar valores de la hipotesis $H$ a través de un canal modelado como ruido discreto aditivo $N$, de modo que la señal discreta $Y$ observada en el receptor tiene la forma $Y = H + N$. Suponga que $H$ y $N$ son variables aleatorias discretas independientes que toman valores cero y uno de forma equiprobable.\n",
        "\n",
        "Bajo esta situación se puede decir que va a ser probable observar tres valores de $Y$, esto es $y = {0, 1, 2}$.\n",
        "\n",
        "1. Encontrar las probabilidades condicionales $P_{Y/H}(y/0)$ y $P_{Y/H}(y/1)$.\n",
        "2. Determinar cualitativamente el nivel de decisión óptimo a fijar en el receptor según el criterio ML.\n",
        "3. Realizar una simulación Monte Carlo del problema para encontrar el valor de la probabilidad de error $P_{e}$ para un nivel de decisión igual a 0, 1 y 2.\n",
        "\n",
        "**Ayuda**: Los valores de Y van a estar dados por las siguientes posibilidades:\n",
        "\n",
        "$H + N = Y \\\\ 0 + 0 = 0 \\\\ 0 + 1 = 1 \\\\ 1 +\t0 =\t1 \\\\ 1 + 1 = 2$"
      ]
    },
    {
      "cell_type": "markdown",
      "metadata": {
        "id": "R3VgbAiYdQX1"
      },
      "source": [
        "## Desarrollo:"
      ]
    },
    {
      "cell_type": "markdown",
      "metadata": {
        "id": "zQljV93GdQX1"
      },
      "source": [
        "### 1. Encontrar las probabilidades condicionales $P_{Y|H}(y|0)$ y $P_{Y|H}(y|1)$\n",
        "Basandome en la tabla de ayuda:\n",
        "- $P_{Y|H}(0|0) = 0.5$\n",
        "- $P_{Y|H}(1|0) = 0.5$\n",
        "- $P_{Y|H}(2|0) = 0$\n",
        "- $P_{Y|H}(0|1) = 0$\n",
        "- $P_{Y|H}(1|1) = 0.5$\n",
        "- $P_{Y|H}(2|1) = 0.5$"
      ]
    },
    {
      "cell_type": "markdown",
      "metadata": {
        "id": "J4wdMEZXdQX2"
      },
      "source": [
        "### 2. Determinar el nivel de decisión optimo\n",
        "El nivel de decisión optimo está dado por $y = 1$, debido a que es el unico valor al cual hay que decidir si la hipotesis es una u otra, con los otros valores de $Y$ las probabilidades solo dan posibilidad a un valor de hipotesis, en cambio en $y = 1$ la probabilidad indica que la hipotesis puede ser tanto $H = 1$ como $H = 0$ en partes iguales, por ende se debe elegirse una hipotesis, aunque esta tenga gran posibilidad de errar al valor."
      ]
    },
    {
      "cell_type": "markdown",
      "metadata": {
        "id": "rwJNqQn2dQX2"
      },
      "source": [
        "### 3. Simulación Monte Carlo, cálculo probabilidad de error $P_{e}$"
      ]
    },
    {
      "cell_type": "markdown",
      "metadata": {
        "id": "3xkYvuZ8egk_"
      },
      "source": [
        "Probabilidad de Error (Nivel de decision 0):\n",
        "\n",
        "$Pe = Pe(1)\\cdot P_{H}(0) + Pe(2) \\cdot P_{H}(1) = Pe(1)\\cdot P_{Y|H}(y = 1|H = 0) + Pe(2) \\cdot P_{Y|H}(y = 2|H = 1)$\n",
        "\n",
        "Probabilidad de Error (Nivel de decision 1):\n",
        "\n",
        "$Pe = Pe(0)\\cdot P_{H}(0) + Pe(2) \\cdot P_{H}(1) = Pe(0)\\cdot P_{Y|H}(y = 0|H = 0) + Pe(2) \\cdot P_{Y|H}(y = 2|H = 1)$\n",
        "\n",
        "Probabilidad de Error (Nivel de decision 2):\n",
        "\n",
        "$Pe = Pe(0)\\cdot P_{H}(0) + Pe(1) \\cdot P_{H}(1) = Pe(0)\\cdot P_{Y|H}(y = 0|H = 0) + Pe(1) \\cdot P_{Y|H}(y = 1|H = 1)$"
      ]
    },
    {
      "cell_type": "code",
      "execution_count": 3,
      "metadata": {
        "colab": {
          "base_uri": "https://localhost:8080/"
        },
        "id": "HTYasZMJdQX2",
        "outputId": "af1816c5-568c-4ba9-ea89-4b7a01fbedf5"
      },
      "outputs": [
        {
          "name": "stdout",
          "output_type": "stream",
          "text": [
            "Probabilidad de Error para Decision 0:  0.24971100000000002 \n",
            "\n",
            "Probabilidad de Error para Decision 1:  0.250075 \n",
            "\n",
            "Probabilidad de Error para Decision 2:  0.2505925 \n",
            "\n"
          ]
        }
      ],
      "source": [
        "import random\n",
        "\n",
        "def ruido():\n",
        "    return random.randint(0,1)\n",
        "\n",
        "def hipotesis():\n",
        "    return random.randint(0,1)\n",
        "\n",
        "def monte_carlo(n,decision):\n",
        "    errores_A = 0\n",
        "    errores_B = 0\n",
        "\n",
        "    for i in range(n):\n",
        "        h = hipotesis()\n",
        "        r = ruido()\n",
        "\n",
        "        if decision != (h + r):\n",
        "            if h == 0:\n",
        "                errores_A += 1\n",
        "            else:\n",
        "                errores_B += 1\n",
        "\n",
        "    return errores_A/n, errores_B/n\n",
        "\n",
        "# Calculamos las Probabilidades de Error para cada nivel de decision\n",
        "\n",
        "# Decision 0 -> Pe = Pe(1)*PH(0) + Pe(2)*PH(1)\n",
        "# con PH(0) = PH(1) = 0.5\n",
        "n = 1000000\n",
        "Pe1, Pe2 = monte_carlo(n,1)\n",
        "print(\"Probabilidad de Error para Decision 0: \", Pe1 * 0.5 + Pe2 * 0.5, \"\\n\")\n",
        "\n",
        "# Decision 1 -> Pe = Pe(0)*PH(0) + Pe(2)*PH(1)\n",
        "# con PH(0) = PH(1) = 0.5\n",
        "n = 1000000\n",
        "Pe0, Pe2 = monte_carlo(n,1)\n",
        "print(\"Probabilidad de Error para Decision 1: \", Pe0 * 0.5 + Pe2 * 0.5, \"\\n\")\n",
        "\n",
        "# Decision 2 -> Pe = Pe(0)*PH(0) + Pe(1)*PH(1)\n",
        "# con PH(0) = PH(1) = 0.5\n",
        "n = 1000000\n",
        "Pe0, Pe1 = monte_carlo(n,1)\n",
        "print(\"Probabilidad de Error para Decision 2: \", Pe0 * 0.5 + Pe1 * 0.5, \"\\n\")"
      ]
    }
  ],
  "metadata": {
    "colab": {
      "provenance": []
    },
    "kernelspec": {
      "display_name": "Python 3",
      "language": "python",
      "name": "python3"
    },
    "language_info": {
      "codemirror_mode": {
        "name": "ipython",
        "version": 3
      },
      "file_extension": ".py",
      "mimetype": "text/x-python",
      "name": "python",
      "nbconvert_exporter": "python",
      "pygments_lexer": "ipython3",
      "version": "3.12.2"
    }
  },
  "nbformat": 4,
  "nbformat_minor": 0
}
