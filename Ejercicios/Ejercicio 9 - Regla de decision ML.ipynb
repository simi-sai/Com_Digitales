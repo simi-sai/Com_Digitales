{
  "cells": [
    {
      "cell_type": "markdown",
      "metadata": {
        "id": "1CD5J9t1eLaK"
      },
      "source": [
        "# Cálculo del valor de decisión óptimo para el caso de una regla de decisión ML."
      ]
    },
    {
      "cell_type": "markdown",
      "metadata": {},
      "source": [
        "## Consigna:\n",
        "Adjunte una Jupyter Notebook en donde quede expresado el desarrollo matemático que permite obtener el valor del nivel de decisión para el caso del ejemplo planteado en la clase, esto es para una regla de decisión ML y valores de intensidad $λ_0=1$ y $λ_1=3$."
      ]
    },
    {
      "cell_type": "markdown",
      "metadata": {
        "id": "r_8cyg-Rj4Lu"
      },
      "source": [
        "## Desarrollo:"
      ]
    },
    {
      "cell_type": "markdown",
      "metadata": {},
      "source": [
        "La regla de decisión de máxima verosimilitud (del inglés Maximum Likelihood decision Rule) o ML, establece que la hipótesis transmitida más probable dada la observación Y en un instante de tiempo dado es aquella que cumple con la siguiente relación:\n",
        "\n",
        "$\\hat{H}(y)=\\underset{i\\in \\mathcal{H}}{argmax}P_{Y|H}(y|i)$"
      ]
    },
    {
      "cell_type": "markdown",
      "metadata": {},
      "source": [
        "En el ejemplo visto en clase tenemos 2 hipotesis, la hipotesis 0 es que el LED se encuentra apagado y la 1 es que el LED se encuentra encendido. Ambas hipotesis poseen una distribución de Poisson con sus respectivos Lambdas, siendo estos: $λ_0=1$ y $λ_1=3$. Por ende:\n",
        "\n",
        "$H = 0,\\hspace{0.3cm} Y \\sim P_{Y|H}(y|0) = \\frac{\\lambda^{y}_{0}e^{-\\lambda_{0}}}{y!} = \\frac{1^{y}e^{-1}}{y!} (siendo \\hspace{0.2cm} \\lambda = 1) $\n",
        "\n",
        "$H = 1,\\hspace{0.3cm} Y \\sim P_{Y|H}(y|1) = \\frac{\\lambda^{y}_{0}e^{-\\lambda_{1}}}{y!} = \\frac{3^{y}e^{-3}}{y!} (siendo \\hspace{0.2cm} \\lambda = 3) $"
      ]
    },
    {
      "cell_type": "markdown",
      "metadata": {},
      "source": [
        "Para el caso de test de hipótesis binaria la regla de decisión ML queda simplificada a la siguiente expresión:\n",
        "\n",
        "$P_{Y|H}(y|1)\\overset{\\hat{H}=1}{\\underset{\\hat{H}=0}\\gtreqless}P_{Y|H}(y|0) = \\frac{1^{y}e^{-1}}{y!}\\overset{\\hat{H}=1}{\\underset{\\hat{H}=0}\\gtreqless}\\frac{3^{y}e^{-3}}{y!} =  1^{y}e^{-1}\\overset{\\hat{H}=1}{\\underset{\\hat{H}=0}\\gtreqless}3^{y}e^{-3} = \\ln{(1^{y}e^{-1})}\\overset{\\hat{H}=1}{\\underset{\\hat{H}=0}\\gtreqless}\\ln{(3^{y}e^{-3})} = ...$\n",
        "\n",
        "$... = y\\ln{(1)}+(-1)\\ln{(e)}\\overset{\\hat{H}=1}{\\underset{\\hat{H}=0}\\gtreqless}y\\ln{(3)}+(-3)\\ln{(e)} = (-1)\\overset{\\hat{H}=1}{\\underset{\\hat{H}=0}\\gtreqless}y\\ln{(3)}+(-3) = ... $\n",
        "\n",
        "$... = 2\\overset{\\hat{H}=1}{\\underset{\\hat{H}=0}\\gtreqless}y\\ln{(3)} = \\frac{2}{\\ln{(3)}}\\overset{\\hat{H}=1}{\\underset{\\hat{H}=0}\\gtreqless}y = 1.82\\overset{\\hat{H}=1}{\\underset{\\hat{H}=0}\\gtreqless}y$"
      ]
    },
    {
      "cell_type": "markdown",
      "metadata": {},
      "source": [
        "Como calculamos, el nivel de decision del receptor se encuentra en el valor igual a 1.82, a mayor o igual valor la hipotesis tomada será la $\\hat{H} = 1$, y en un valor menor la hipotesis sera $\\hat{H} = 0$."
      ]
    }
  ],
  "metadata": {
    "colab": {
      "provenance": []
    },
    "kernelspec": {
      "display_name": "Python 3",
      "name": "python3"
    },
    "language_info": {
      "name": "python",
      "version": "3.12.2"
    }
  },
  "nbformat": 4,
  "nbformat_minor": 0
}
